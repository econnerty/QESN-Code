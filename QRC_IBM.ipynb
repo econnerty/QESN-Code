{
 "cells": [
  {
   "cell_type": "code",
   "execution_count": 1,
   "metadata": {},
   "outputs": [],
   "source": [
    "# Create circuit to test transpiler on\n",
    "from qiskit import QuantumCircuit, qpy\n",
    "from qiskit.transpiler.preset_passmanagers import generate_preset_pass_manager\n",
    "import numpy as np\n",
    "# Qiskit Runtime\n",
    "from qiskit_aer import AerSimulator as Aer\n",
    "from qiskit_ibm_runtime import QiskitRuntimeService, Batch,SamplerV2\n",
    "import matplotlib.pyplot as plt\n",
    "from sklearn.linear_model import LinearRegression,Ridge\n",
    "from sklearn.metrics import mean_squared_error,root_mean_squared_error\n",
    "from scipy import stats\n",
    "import time\n",
    "import logging\n",
    "from datetime import datetime\n",
    "from multiprocessing import Pool\n",
    "import QRNN as QRNN\n",
    "from qiskit.circuit.library import XGate, YGate\n",
    "from qiskit.transpiler import InstructionProperties\n",
    "from qiskit.transpiler import PassManager\n",
    "from qiskit.circuit.equivalence_library import (\n",
    "    SessionEquivalenceLibrary as sel,\n",
    ")\n",
    "from qiskit.transpiler.passes import BasisTranslator\n",
    "from qiskit.transpiler.passes.scheduling import (\n",
    "    ALAPScheduleAnalysis,\n",
    "    PadDynamicalDecoupling,\n",
    ")\n",
    "date = str(datetime.now())\n",
    "\n",
    "from qiskit_aer.noise import (\n",
    "    NoiseModel,\n",
    "    QuantumError,\n",
    "    ReadoutError,\n",
    "    depolarizing_error,\n",
    "    pauli_error,\n",
    "    thermal_relaxation_error,\n",
    ")"
   ]
  },
  {
   "cell_type": "code",
   "execution_count": 2,
   "metadata": {},
   "outputs": [
    {
     "name": "stdout",
     "output_type": "stream",
     "text": [
      "[[ 0.00284433 -0.24469469]\n",
      " [ 0.          0.        ]\n",
      " [ 0.          0.        ]\n",
      " [ 0.45766431 -0.05294298]\n",
      " [ 0.          0.92548639]\n",
      " [-0.6182406   0.        ]]\n",
      "[-0.001434    0.         -0.14368148  0.02531314  0.         -0.0823018 ]\n",
      "Depth of circuit: \n",
      "207454\n"
     ]
    }
   ],
   "source": [
    "n_qubits = 12 # must be even and less than 156. Going above 16 with low sparsity will increase depth of the circuit and transpile time\n",
    "repeat_blocks = 3\n",
    "ent_sparsity = 0.5 #These parameters can reduce the depth and number of SWAPs in the circuit by increasing them, but may hurt the performance.\n",
    "mem_sparsity = 0.4 #Same as above\n",
    "qc_name = 'ibm_marrakesh'\n",
    "seed = 123123\n",
    "\n",
    "#Shots\n",
    "shots = 750 #If there is a buffer overflow, lowering this or increasing delay in circuit will help, but we usually need 30k shots minimum, so we have to run 40 of these or more\n",
    "\n",
    "service = QiskitRuntimeService(channel=\"ibm_quantum\",token='INSERT_TOKEN')\n",
    "\n",
    "backend = service.backend(qc_name,use_fractional_gates=False)\n",
    "target = backend.target\n",
    "basis_gates = list(target.operation_names)\n",
    "#backend= least_busy()\n",
    "#backend = GenericBackendV2(num_qubits=50)\n",
    "#backend = Aer.from_backend(backend)\n",
    "\n",
    "# #Get data\n",
    "start = 500 #points to ignore\n",
    "n_pts = 2000 # points to use. there is only one circuit now.\n",
    "train_input_signal, test_input_signal, train_data, test_data = QRNN.get_lorenz_data(startup=start,n_pts=n_pts)\n",
    "\n",
    "# #Get circuit\n",
    "qrnn_circuit, register_names = QRNN.QRNN(train_input_signal,n_qubits=n_qubits,context_length=3,repeat_blocks=repeat_blocks,ent_sparsity=ent_sparsity,mem_sparsity=mem_sparsity,seed=seed)\n",
    "\n",
    "\n",
    "t_qc = generate_preset_pass_manager(optimization_level=3,backend=backend).run(qrnn_circuit)\n",
    "\"\"\"\n",
    "X = XGate()\n",
    "Y = YGate()\n",
    "#Create dynamical decoupling\n",
    "dd_sequence = [X, Y, X, Y]\n",
    "\n",
    "y_gate_properties = {}\n",
    "for qubit in range(target.num_qubits):\n",
    "    y_gate_properties.update(\n",
    "        {\n",
    "            (qubit,): InstructionProperties(\n",
    "                duration=target[\"x\"][(qubit,)].duration,\n",
    "                error=target[\"x\"][(qubit,)].error,\n",
    "            )\n",
    "        }\n",
    "    )\n",
    "\n",
    "target.add_instruction(YGate(), y_gate_properties)\n",
    "t_qc = PassManager(\n",
    "    [\n",
    "        ALAPScheduleAnalysis(target=target),\n",
    "        PadDynamicalDecoupling(target=target, dd_sequence=dd_sequence),\n",
    "    ]\n",
    ").run(t_qc)\n",
    "\n",
    "t_qc = BasisTranslator(sel, basis_gates)(t_qc)\"\"\"\n",
    "\n",
    "#t_qc = generate_preset_pass_manager(optimization_level=3,backend=backend).run(qrnn_circuit)\n",
    "#sampler = SamplerV2(mode=backend, options={\"experimental\":{\"execution\":{\"rep_delay\":{.0005}}}})\n",
    "\n"
   ]
  },
  {
   "cell_type": "code",
   "execution_count": 78,
   "metadata": {},
   "outputs": [],
   "source": [
    "# from qiskit import qpy\n",
    "# We have a compiled circuit that works as well.\n",
    " \n",
    "# with open(\"marrakesh_12qubit_500-2000data_rep3_sparsityent_.5_sparsitymem_.4_seed_123123_context_3_750_shots.qpy\", \"wb\") as file:\n",
    "#     qpy.dump(t_qc, file)"
   ]
  },
  {
   "cell_type": "code",
   "execution_count": 3,
   "metadata": {},
   "outputs": [
    {
     "name": "stdout",
     "output_type": "stream",
     "text": [
      "Depth of circuit: \n",
      "207454\n"
     ]
    }
   ],
   "source": [
    "print('Depth of circuit: ')\n",
    "print(t_qc.depth())"
   ]
  },
  {
   "cell_type": "code",
   "execution_count": 4,
   "metadata": {},
   "outputs": [
    {
     "data": {
      "text/plain": [
       "OrderedDict([('rz', 449851),\n",
       "             ('sx', 425830),\n",
       "             ('cz', 119796),\n",
       "             ('x', 11988),\n",
       "             ('measure', 11988),\n",
       "             ('reset', 11988),\n",
       "             ('barrier', 3996)])"
      ]
     },
     "execution_count": 4,
     "metadata": {},
     "output_type": "execute_result"
    }
   ],
   "source": [
    "t_qc.count_ops()"
   ]
  },
  {
   "cell_type": "code",
   "execution_count": 5,
   "metadata": {},
   "outputs": [
    {
     "name": "stderr",
     "output_type": "stream",
     "text": [
      "/var/folders/d7/5zdtyjdj6bqf_gtsn20v944c0000gn/T/ipykernel_44717/1890759391.py:3: DeprecationWarning: Treating CircuitInstruction as an iterable is deprecated legacy behavior since Qiskit 1.2, and will be removed in Qiskit 2.0. Instead, use the `operation`, `qubits` and `clbits` named attributes.\n",
      "  for instr, _, _ in t_qc.data:\n"
     ]
    },
    {
     "name": "stdout",
     "output_type": "stream",
     "text": [
      "Number of operations: \n",
      "1035437\n"
     ]
    }
   ],
   "source": [
    "#Get total number of operations\n",
    "n_ops = 0\n",
    "for instr, _, _ in t_qc.data:\n",
    "    n_ops += 1\n",
    "print('Number of operations: ')\n",
    "print(n_ops)\n"
   ]
  },
  {
   "cell_type": "code",
   "execution_count": 6,
   "metadata": {},
   "outputs": [],
   "source": [
    "sampler = SamplerV2(mode=backend,options={\"execution\":{\"rep_delay\":0.0005}})#, options={\"experimental\":{\"execution\":{\"rep_delay\":{.0005}}}})"
   ]
  },
  {
   "cell_type": "code",
   "execution_count": 7,
   "metadata": {},
   "outputs": [],
   "source": [
    "jobs = []"
   ]
  },
  {
   "cell_type": "code",
   "execution_count": 8,
   "metadata": {},
   "outputs": [],
   "source": [
    "#Change this to get more than 1 job, but it is best to make sure circuit executes beforehand. 40 Jobs with 750 shots is 30k\n",
    "total_jobs = 1\n",
    "for i in range(total_jobs):\n",
    "    jobs.append(sampler.run([t_qc], shots=shots))"
   ]
  },
  {
   "cell_type": "code",
   "execution_count": 13,
   "metadata": {},
   "outputs": [
    {
     "name": "stdout",
     "output_type": "stream",
     "text": [
      "ERROR\n"
     ]
    }
   ],
   "source": [
    "for job in jobs:\n",
    "    print(job.status()) "
   ]
  },
  {
   "cell_type": "code",
   "execution_count": 14,
   "metadata": {},
   "outputs": [
    {
     "name": "stdout",
     "output_type": "stream",
     "text": [
      "Job cy800hanrmz00085v5sg has failed:\n",
      "Error code 8045; A buffer overflow occurred during result collection. Reduce the number of shots or measurements, or increase the rep_delay \n"
     ]
    }
   ],
   "source": [
    "# for job in jobs:\n",
    "#     print(job.error_message())"
   ]
  },
  {
   "cell_type": "code",
   "execution_count": 11,
   "metadata": {},
   "outputs": [
    {
     "data": {
      "text/plain": [
       "{'period': {'start': '2025-01-01T00:00:00.000Z',\n",
       "  'end': '2025-01-31T23:59:59.999Z'},\n",
       " 'byInstance': [{'instance': 'ibm-q/open/main',\n",
       "   'quota': 600,\n",
       "   'usage': 0,\n",
       "   'pendingJobs': 0,\n",
       "   'maxPendingJobs': 3}]}"
      ]
     },
     "execution_count": 11,
     "metadata": {},
     "output_type": "execute_result"
    }
   ],
   "source": [
    "service.usage()"
   ]
  },
  {
   "cell_type": "code",
   "execution_count": 35,
   "metadata": {},
   "outputs": [
    {
     "data": {
      "text/plain": [
       "'Job cy58c0rnrmz00085ffk0 has failed:\\nError code 1800; Unknown error.'"
      ]
     },
     "execution_count": 35,
     "metadata": {},
     "output_type": "execute_result"
    }
   ],
   "source": [
    "jobs[23].error_message()"
   ]
  },
  {
   "cell_type": "code",
   "execution_count": 19,
   "metadata": {},
   "outputs": [
    {
     "data": {
      "text/plain": [
       "2.4e-05"
      ]
     },
     "execution_count": 19,
     "metadata": {},
     "output_type": "execute_result"
    }
   ],
   "source": [
    "time = backend.dt * 6000\n",
    "time\n"
   ]
  },
  {
   "cell_type": "code",
   "execution_count": 9,
   "metadata": {},
   "outputs": [
    {
     "data": {
      "text/plain": [
       "4e-09"
      ]
     },
     "execution_count": 9,
     "metadata": {},
     "output_type": "execute_result"
    }
   ],
   "source": [
    "backend.dt"
   ]
  },
  {
   "cell_type": "code",
   "execution_count": 76,
   "metadata": {},
   "outputs": [],
   "source": [
    "results = []\n",
    "for job in jobs:\n",
    "    results.append(job.result()[0].data)\n",
    "#results2 = job2.result()\n",
    "#results3 = job3.result()\n",
    "# results4 = job4.result()\n",
    "# results5 = job5.result()"
   ]
  },
  {
   "cell_type": "code",
   "execution_count": 77,
   "metadata": {},
   "outputs": [],
   "source": [
    "#results_list = [results[0].data]#,results2[0].data,results3[0].data]\n",
    "expectation = QRNN.get_probability_matrix(results, register_names, n_qubits//2)\n",
    "\n",
    "np.save(f'expectations_{date}_{n_qubits}_{qc_name}_shots_60000_seed_{seed}_pts_{start}_{n_pts}_{test_pts}.npy',expectation)\n"
   ]
  },
  {
   "cell_type": "code",
   "execution_count": 12,
   "metadata": {},
   "outputs": [
    {
     "name": "stdout",
     "output_type": "stream",
     "text": [
      "[[ 0.          0.        ]\n",
      " [-1.33123903 -0.18202904]\n",
      " [ 0.          0.        ]\n",
      " [ 0.          0.        ]\n",
      " [ 0.          0.        ]\n",
      " [-0.59892589  0.        ]\n",
      " [ 0.          0.        ]\n",
      " [ 0.          0.        ]\n",
      " [ 0.          0.87878391]\n",
      " [ 0.         -0.48171322]\n",
      " [ 0.          0.        ]\n",
      " [ 0.          0.        ]]\n",
      "Depth of circuit: \n",
      "60398\n"
     ]
    }
   ],
   "source": [
    "#Run test job\n",
    "#Get circuit\n",
    "qrnn_circuit_test, test_register_names = QRNN.QRNN(test_input_signal,n_qubits=n_qubits,context_length=3,repeat_blocks=repeat_blocks,seed=seed)\n",
    "\n",
    "t_qc_test = generate_preset_pass_manager(optimization_level=3,backend=backend).run(qrnn_circuit_test)\n",
    "\n",
    "\n",
    "t_qc_test = PassManager(\n",
    "    [\n",
    "        ALAPScheduleAnalysis(target=target),\n",
    "        PadDynamicalDecoupling(target=target, dd_sequence=dd_sequence),\n",
    "    ]\n",
    ").run(t_qc_test)\n",
    "\n",
    "t_qc_test = BasisTranslator(sel, basis_gates)(t_qc_test)\n",
    "print('Depth of circuit: ')\n",
    "print(t_qc_test.depth())\n",
    "#f.write(f'\\n Depth of test circuit: {t_qc.depth()}')\n",
    "\n"
   ]
  },
  {
   "cell_type": "code",
   "execution_count": 14,
   "metadata": {},
   "outputs": [],
   "source": [
    "jobs_test = []\n",
    "for i in range(total_jobs):\n",
    "    jobs_test.append(sampler.run([t_qc_test], shots=shots))\n",
    "# job_test = sampler.run([t_qc_test], shots=shots)\n",
    "# #job_test2 = sampler.run([t_qc_test], shots=shots)\n",
    "# #job_test3 = sampler.run([t_qc_test], shots=shots)\n",
    "# # job_test4 = sampler.run([t_qc_test], shots=shots)\n",
    "# # job_test5 = sampler.run([t_qc_test], shots=shots)"
   ]
  },
  {
   "cell_type": "code",
   "execution_count": 30,
   "metadata": {},
   "outputs": [
    {
     "ename": "NameError",
     "evalue": "name 'jobs_test' is not defined",
     "output_type": "error",
     "traceback": [
      "\u001b[0;31m---------------------------------------------------------------------------\u001b[0m",
      "\u001b[0;31mNameError\u001b[0m                                 Traceback (most recent call last)",
      "Cell \u001b[0;32mIn[30], line 2\u001b[0m\n\u001b[1;32m      1\u001b[0m \u001b[38;5;28;01mfor\u001b[39;00m i \u001b[38;5;129;01min\u001b[39;00m \u001b[38;5;28mrange\u001b[39m(total_jobs):\n\u001b[0;32m----> 2\u001b[0m     \u001b[38;5;28mprint\u001b[39m(jobs_test[i]\u001b[38;5;241m.\u001b[39mstatus())\n",
      "\u001b[0;31mNameError\u001b[0m: name 'jobs_test' is not defined"
     ]
    }
   ],
   "source": [
    "for i in range(total_jobs):\n",
    "    print(jobs_test[i].status())\n",
    "# print(job_test.status())\n",
    "#print(job_test2.status())\n",
    "#print(job_test3.status())\n",
    "# print(job_test4.status())\n",
    "# print(job_test5.status())"
   ]
  },
  {
   "cell_type": "code",
   "execution_count": null,
   "metadata": {},
   "outputs": [],
   "source": [
    "results_test = []\n",
    "for i in range(total_jobs):\n",
    "    results_test.append(jobs_test[i].result()[0].data)\n",
    "# results_test = job_test.result()\n",
    "#results_test2 = job_test2.result()\n",
    "#results_test3 = job_test3.result()\n",
    "# results_test4 = job_test4.result()\n",
    "# results_test5 = job_test5.result()"
   ]
  },
  {
   "cell_type": "code",
   "execution_count": null,
   "metadata": {},
   "outputs": [],
   "source": [
    "#results_list_test = [results_test[0].data,results_test2[0].data,results_test3[0].data,results_test4[0].data,results_test5[0].data]"
   ]
  },
  {
   "cell_type": "code",
   "execution_count": null,
   "metadata": {},
   "outputs": [],
   "source": [
    "#results_list_test = [results_test[0].data]#,results_test2[0].data,results_test3[0].data]\n",
    "expectation_test = QRNN.get_probability_matrix(results_test, test_register_names, n_qubits//2)\n",
    "\n",
    "np.save(f'./expectations_test_{date}_{n_qubits}_{qc_name}_shots_{shots}_seed_{seed}_{repeat_blocks}_{start}_{n_pts}_{test_pts}.npy',expectation_test)"
   ]
  }
 ],
 "metadata": {
  "kernelspec": {
   "display_name": "base",
   "language": "python",
   "name": "python3"
  },
  "language_info": {
   "codemirror_mode": {
    "name": "ipython",
    "version": 3
   },
   "file_extension": ".py",
   "mimetype": "text/x-python",
   "name": "python",
   "nbconvert_exporter": "python",
   "pygments_lexer": "ipython3",
   "version": "3.11.5"
  }
 },
 "nbformat": 4,
 "nbformat_minor": 2
}
